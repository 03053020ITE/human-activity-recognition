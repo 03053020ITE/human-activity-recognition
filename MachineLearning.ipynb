{
 "cells": [
  {
   "cell_type": "code",
   "execution_count": 1,
   "metadata": {},
   "outputs": [
    {
     "name": "stderr",
     "output_type": "stream",
     "text": [
      "/home/user/anaconda3/envs/tensorflow/lib/python3.6/site-packages/IPython/core/interactiveshell.py:3020: DtypeWarning: Columns (11,14,19,22,25,70,73,86,87,89,90,94,97,100) have mixed types. Specify dtype option on import or set low_memory=False.\n",
      "  interactivity=interactivity, compiler=compiler, result=result)\n"
     ]
    },
    {
     "data": {
      "text/html": [
       "<div>\n",
       "<style scoped>\n",
       "    .dataframe tbody tr th:only-of-type {\n",
       "        vertical-align: middle;\n",
       "    }\n",
       "\n",
       "    .dataframe tbody tr th {\n",
       "        vertical-align: top;\n",
       "    }\n",
       "\n",
       "    .dataframe thead th {\n",
       "        text-align: right;\n",
       "    }\n",
       "</style>\n",
       "<table border=\"1\" class=\"dataframe\">\n",
       "  <thead>\n",
       "    <tr style=\"text-align: right;\">\n",
       "      <th></th>\n",
       "      <th>Unnamed: 0</th>\n",
       "      <th>user_name</th>\n",
       "      <th>raw_timestamp_part_1</th>\n",
       "      <th>raw_timestamp_part_2</th>\n",
       "      <th>cvtd_timestamp</th>\n",
       "      <th>new_window</th>\n",
       "      <th>num_window</th>\n",
       "      <th>roll_belt</th>\n",
       "      <th>pitch_belt</th>\n",
       "      <th>yaw_belt</th>\n",
       "      <th>...</th>\n",
       "      <th>gyros_forearm_x</th>\n",
       "      <th>gyros_forearm_y</th>\n",
       "      <th>gyros_forearm_z</th>\n",
       "      <th>accel_forearm_x</th>\n",
       "      <th>accel_forearm_y</th>\n",
       "      <th>accel_forearm_z</th>\n",
       "      <th>magnet_forearm_x</th>\n",
       "      <th>magnet_forearm_y</th>\n",
       "      <th>magnet_forearm_z</th>\n",
       "      <th>classe</th>\n",
       "    </tr>\n",
       "  </thead>\n",
       "  <tbody>\n",
       "    <tr>\n",
       "      <th>0</th>\n",
       "      <td>1</td>\n",
       "      <td>carlitos</td>\n",
       "      <td>1323084231</td>\n",
       "      <td>788290</td>\n",
       "      <td>05/12/2011 11:23</td>\n",
       "      <td>no</td>\n",
       "      <td>11</td>\n",
       "      <td>1.41</td>\n",
       "      <td>8.07</td>\n",
       "      <td>-94.4</td>\n",
       "      <td>...</td>\n",
       "      <td>0.03</td>\n",
       "      <td>0.00</td>\n",
       "      <td>-0.02</td>\n",
       "      <td>192</td>\n",
       "      <td>203</td>\n",
       "      <td>-215</td>\n",
       "      <td>-17</td>\n",
       "      <td>654.0</td>\n",
       "      <td>476.0</td>\n",
       "      <td>A</td>\n",
       "    </tr>\n",
       "    <tr>\n",
       "      <th>1</th>\n",
       "      <td>2</td>\n",
       "      <td>carlitos</td>\n",
       "      <td>1323084231</td>\n",
       "      <td>808298</td>\n",
       "      <td>05/12/2011 11:23</td>\n",
       "      <td>no</td>\n",
       "      <td>11</td>\n",
       "      <td>1.41</td>\n",
       "      <td>8.07</td>\n",
       "      <td>-94.4</td>\n",
       "      <td>...</td>\n",
       "      <td>0.02</td>\n",
       "      <td>0.00</td>\n",
       "      <td>-0.02</td>\n",
       "      <td>192</td>\n",
       "      <td>203</td>\n",
       "      <td>-216</td>\n",
       "      <td>-18</td>\n",
       "      <td>661.0</td>\n",
       "      <td>473.0</td>\n",
       "      <td>A</td>\n",
       "    </tr>\n",
       "    <tr>\n",
       "      <th>2</th>\n",
       "      <td>3</td>\n",
       "      <td>carlitos</td>\n",
       "      <td>1323084231</td>\n",
       "      <td>820366</td>\n",
       "      <td>05/12/2011 11:23</td>\n",
       "      <td>no</td>\n",
       "      <td>11</td>\n",
       "      <td>1.42</td>\n",
       "      <td>8.07</td>\n",
       "      <td>-94.4</td>\n",
       "      <td>...</td>\n",
       "      <td>0.03</td>\n",
       "      <td>-0.02</td>\n",
       "      <td>0.00</td>\n",
       "      <td>196</td>\n",
       "      <td>204</td>\n",
       "      <td>-213</td>\n",
       "      <td>-18</td>\n",
       "      <td>658.0</td>\n",
       "      <td>469.0</td>\n",
       "      <td>A</td>\n",
       "    </tr>\n",
       "    <tr>\n",
       "      <th>3</th>\n",
       "      <td>4</td>\n",
       "      <td>carlitos</td>\n",
       "      <td>1323084232</td>\n",
       "      <td>120339</td>\n",
       "      <td>05/12/2011 11:23</td>\n",
       "      <td>no</td>\n",
       "      <td>12</td>\n",
       "      <td>1.48</td>\n",
       "      <td>8.05</td>\n",
       "      <td>-94.4</td>\n",
       "      <td>...</td>\n",
       "      <td>0.02</td>\n",
       "      <td>-0.02</td>\n",
       "      <td>0.00</td>\n",
       "      <td>189</td>\n",
       "      <td>206</td>\n",
       "      <td>-214</td>\n",
       "      <td>-16</td>\n",
       "      <td>658.0</td>\n",
       "      <td>469.0</td>\n",
       "      <td>A</td>\n",
       "    </tr>\n",
       "    <tr>\n",
       "      <th>4</th>\n",
       "      <td>5</td>\n",
       "      <td>carlitos</td>\n",
       "      <td>1323084232</td>\n",
       "      <td>196328</td>\n",
       "      <td>05/12/2011 11:23</td>\n",
       "      <td>no</td>\n",
       "      <td>12</td>\n",
       "      <td>1.48</td>\n",
       "      <td>8.07</td>\n",
       "      <td>-94.4</td>\n",
       "      <td>...</td>\n",
       "      <td>0.02</td>\n",
       "      <td>0.00</td>\n",
       "      <td>-0.02</td>\n",
       "      <td>189</td>\n",
       "      <td>206</td>\n",
       "      <td>-214</td>\n",
       "      <td>-17</td>\n",
       "      <td>655.0</td>\n",
       "      <td>473.0</td>\n",
       "      <td>A</td>\n",
       "    </tr>\n",
       "  </tbody>\n",
       "</table>\n",
       "<p>5 rows × 160 columns</p>\n",
       "</div>"
      ],
      "text/plain": [
       "   Unnamed: 0 user_name  raw_timestamp_part_1  raw_timestamp_part_2  \\\n",
       "0           1  carlitos            1323084231                788290   \n",
       "1           2  carlitos            1323084231                808298   \n",
       "2           3  carlitos            1323084231                820366   \n",
       "3           4  carlitos            1323084232                120339   \n",
       "4           5  carlitos            1323084232                196328   \n",
       "\n",
       "     cvtd_timestamp new_window  num_window  roll_belt  pitch_belt  yaw_belt  \\\n",
       "0  05/12/2011 11:23         no          11       1.41        8.07     -94.4   \n",
       "1  05/12/2011 11:23         no          11       1.41        8.07     -94.4   \n",
       "2  05/12/2011 11:23         no          11       1.42        8.07     -94.4   \n",
       "3  05/12/2011 11:23         no          12       1.48        8.05     -94.4   \n",
       "4  05/12/2011 11:23         no          12       1.48        8.07     -94.4   \n",
       "\n",
       "   ...    gyros_forearm_x gyros_forearm_y gyros_forearm_z accel_forearm_x  \\\n",
       "0  ...               0.03            0.00           -0.02             192   \n",
       "1  ...               0.02            0.00           -0.02             192   \n",
       "2  ...               0.03           -0.02            0.00             196   \n",
       "3  ...               0.02           -0.02            0.00             189   \n",
       "4  ...               0.02            0.00           -0.02             189   \n",
       "\n",
       "  accel_forearm_y accel_forearm_z magnet_forearm_x  magnet_forearm_y  \\\n",
       "0             203            -215              -17             654.0   \n",
       "1             203            -216              -18             661.0   \n",
       "2             204            -213              -18             658.0   \n",
       "3             206            -214              -16             658.0   \n",
       "4             206            -214              -17             655.0   \n",
       "\n",
       "   magnet_forearm_z classe  \n",
       "0             476.0      A  \n",
       "1             473.0      A  \n",
       "2             469.0      A  \n",
       "3             469.0      A  \n",
       "4             473.0      A  \n",
       "\n",
       "[5 rows x 160 columns]"
      ]
     },
     "execution_count": 1,
     "metadata": {},
     "output_type": "execute_result"
    }
   ],
   "source": [
    "from matplotlib import pyplot as plt\n",
    "import pandas as pd\n",
    "import numpy as np\n",
    "test = pd.read_csv(\"pml-testing.csv\")\n",
    "train = pd.read_csv(\"pml-training.csv\")\n",
    "train.head()"
   ]
  },
  {
   "cell_type": "code",
   "execution_count": 2,
   "metadata": {},
   "outputs": [
    {
     "data": {
      "text/plain": [
       "(19622, 160)"
      ]
     },
     "execution_count": 2,
     "metadata": {},
     "output_type": "execute_result"
    }
   ],
   "source": [
    "train.shape"
   ]
  },
  {
   "cell_type": "code",
   "execution_count": 3,
   "metadata": {},
   "outputs": [
    {
     "data": {
      "text/plain": [
       "(19622, 153)"
      ]
     },
     "execution_count": 3,
     "metadata": {},
     "output_type": "execute_result"
    }
   ],
   "source": [
    "train2 = train.drop(['Unnamed: 0', 'user_name','raw_timestamp_part_1','raw_timestamp_part_2','cvtd_timestamp','new_window','num_window'], axis=1)\n",
    "train2.shape"
   ]
  },
  {
   "cell_type": "code",
   "execution_count": 4,
   "metadata": {},
   "outputs": [
    {
     "data": {
      "text/plain": [
       "(19622, 53)"
      ]
     },
     "execution_count": 4,
     "metadata": {},
     "output_type": "execute_result"
    }
   ],
   "source": [
    "train2 = train2.dropna(axis=1, how='any')\n",
    "train2.shape"
   ]
  },
  {
   "cell_type": "code",
   "execution_count": 5,
   "metadata": {},
   "outputs": [
    {
     "data": {
      "text/plain": [
       "Index(['roll_belt', 'pitch_belt', 'yaw_belt', 'total_accel_belt',\n",
       "       'gyros_belt_x', 'gyros_belt_y', 'gyros_belt_z', 'accel_belt_x',\n",
       "       'accel_belt_y', 'accel_belt_z', 'magnet_belt_x', 'magnet_belt_y',\n",
       "       'magnet_belt_z', 'roll_arm', 'pitch_arm', 'yaw_arm', 'total_accel_arm',\n",
       "       'gyros_arm_x', 'gyros_arm_y', 'gyros_arm_z', 'accel_arm_x',\n",
       "       'accel_arm_y', 'accel_arm_z', 'magnet_arm_x', 'magnet_arm_y',\n",
       "       'magnet_arm_z', 'roll_dumbbell', 'pitch_dumbbell', 'yaw_dumbbell',\n",
       "       'total_accel_dumbbell', 'gyros_dumbbell_x', 'gyros_dumbbell_y',\n",
       "       'gyros_dumbbell_z', 'accel_dumbbell_x', 'accel_dumbbell_y',\n",
       "       'accel_dumbbell_z', 'magnet_dumbbell_x', 'magnet_dumbbell_y',\n",
       "       'magnet_dumbbell_z', 'roll_forearm', 'pitch_forearm', 'yaw_forearm',\n",
       "       'total_accel_forearm', 'gyros_forearm_x', 'gyros_forearm_y',\n",
       "       'gyros_forearm_z', 'accel_forearm_x', 'accel_forearm_y',\n",
       "       'accel_forearm_z', 'magnet_forearm_x', 'magnet_forearm_y',\n",
       "       'magnet_forearm_z', 'classe'],\n",
       "      dtype='object')"
      ]
     },
     "execution_count": 5,
     "metadata": {},
     "output_type": "execute_result"
    }
   ],
   "source": [
    "train2.columns"
   ]
  },
  {
   "cell_type": "code",
   "execution_count": 6,
   "metadata": {},
   "outputs": [],
   "source": [
    "test = test[['roll_belt','pitch_belt', 'yaw_belt', 'total_accel_belt',\n",
    "       'gyros_belt_x', 'gyros_belt_y', 'gyros_belt_z', 'accel_belt_x',\n",
    "       'accel_belt_y', 'accel_belt_z', 'magnet_belt_x', 'magnet_belt_y',\n",
    "       'magnet_belt_z', 'roll_arm', 'pitch_arm', 'yaw_arm', 'total_accel_arm',\n",
    "       'gyros_arm_x', 'gyros_arm_y', 'gyros_arm_z', 'accel_arm_x',\n",
    "       'accel_arm_y', 'accel_arm_z', 'magnet_arm_x', 'magnet_arm_y',\n",
    "       'magnet_arm_z', 'roll_dumbbell', 'pitch_dumbbell', 'yaw_dumbbell',\n",
    "       'total_accel_dumbbell', 'gyros_dumbbell_x', 'gyros_dumbbell_y',\n",
    "       'gyros_dumbbell_z', 'accel_dumbbell_x', 'accel_dumbbell_y',\n",
    "       'accel_dumbbell_z', 'magnet_dumbbell_x', 'magnet_dumbbell_y',\n",
    "       'magnet_dumbbell_z', 'roll_forearm', 'pitch_forearm', 'yaw_forearm',\n",
    "       'total_accel_forearm', 'gyros_forearm_x', 'gyros_forearm_y',\n",
    "       'gyros_forearm_z', 'accel_forearm_x', 'accel_forearm_y',\n",
    "       'accel_forearm_z', 'magnet_forearm_x', 'magnet_forearm_y',\n",
    "       'magnet_forearm_z']]"
   ]
  },
  {
   "cell_type": "code",
   "execution_count": 7,
   "metadata": {},
   "outputs": [
    {
     "data": {
      "image/png": "[encoded data removed]",
      "text/plain": [
       "<Figure size 432x288 with 1 Axes>"
      ]
     },
     "metadata": {
      "needs_background": "light"
     },
     "output_type": "display_data"
    }
   ],
   "source": [
    "# Show how many training examples exist for each of the six activities\n",
    "train2['classe'].value_counts().plot(kind='bar',\n",
    "                                   title='Training Examples by Activity Type')\n",
    "plt.show()\n",
    "# Better understand how the recordings are spread across the different\n",
    "# users who participated in the study+"
   ]
  },
  {
   "cell_type": "code",
   "execution_count": 8,
   "metadata": {},
   "outputs": [],
   "source": [
    "msk = np.random.rand(len(train2)) < 0.8\n",
    "train_df = train2[msk]\n",
    "test_df = train2[~msk]"
   ]
  },
  {
   "cell_type": "code",
   "execution_count": 9,
   "metadata": {},
   "outputs": [
    {
     "data": {
      "text/plain": [
       "(3903, 53)"
      ]
     },
     "execution_count": 9,
     "metadata": {},
     "output_type": "execute_result"
    }
   ],
   "source": [
    "nparray_train = train_df.values\n",
    "nparray_test = test_df.values\n",
    "nparray_train.shape\n",
    "nparray_test.shape"
   ]
  },
  {
   "cell_type": "code",
   "execution_count": 10,
   "metadata": {},
   "outputs": [],
   "source": [
    "train_label = nparray_train[:,52]\n",
    "test_label = nparray_test[:,52]\n",
    "train_feature = nparray_train[:, 0:52]\n",
    "test_feature = nparray_test[:, 0:52]"
   ]
  },
  {
   "cell_type": "code",
   "execution_count": 25,
   "metadata": {},
   "outputs": [
    {
     "name": "stderr",
     "output_type": "stream",
     "text": [
      "/home/user/anaconda3/envs/tensorflow/lib/python3.6/site-packages/sklearn/utils/validation.py:595: DataConversionWarning: Data with input dtype object was converted to float64 by MinMaxScaler.\n",
      "  warnings.warn(msg, DataConversionWarning)\n",
      "/home/user/anaconda3/envs/tensorflow/lib/python3.6/site-packages/sklearn/utils/validation.py:595: DataConversionWarning: Data with input dtype object was converted to float64 by MinMaxScaler.\n",
      "  warnings.warn(msg, DataConversionWarning)\n"
     ]
    }
   ],
   "source": [
    "from sklearn import preprocessing\n",
    "# 正規化\n",
    "minmax_scale = preprocessing.MinMaxScaler(feature_range=(0, 1))\n",
    "train_feature=minmax_scale.fit_transform(train_feature)\n",
    "test_feature=minmax_scale.fit_transform(test_feature)"
   ]
  },
  {
   "cell_type": "code",
   "execution_count": 30,
   "metadata": {},
   "outputs": [],
   "source": [
    "from sklearn import preprocessing\n",
    "# 標準化\n",
    "scaler = preprocessing.StandardScaler()\n",
    "train_feature = scaler.fit_transform(train_feature)\n",
    "test_feature = scaler.fit_transform(test_feature)"
   ]
  },
  {
   "cell_type": "markdown",
   "metadata": {},
   "source": [
    "### 使用隨機深林分類器進行模型訓練以及預測分析"
   ]
  },
  {
   "cell_type": "code",
   "execution_count": 11,
   "metadata": {},
   "outputs": [
    {
     "name": "stderr",
     "output_type": "stream",
     "text": [
      "/home/user/anaconda3/envs/tensorflow/lib/python3.6/site-packages/sklearn/ensemble/forest.py:246: FutureWarning: The default value of n_estimators will change from 10 in version 0.20 to 100 in 0.22.\n",
      "  \"10 in version 0.20 to 100 in 0.22.\", FutureWarning)\n"
     ]
    },
    {
     "name": "stdout",
     "output_type": "stream",
     "text": [
      "The accuracy of RandomForest is 0.9900076863950807\n",
      "['B' 'A' 'B' 'A' 'A' 'E' 'D' 'B' 'A' 'A' 'B' 'C' 'B' 'A' 'E' 'E' 'A' 'B'\n",
      " 'B' 'B']\n"
     ]
    }
   ],
   "source": [
    "from sklearn.ensemble import RandomForestClassifier, GradientBoostingClassifier\n",
    "RFC = RandomForestClassifier()\n",
    "RFC.fit(train_feature,train_label)\n",
    "print('The accuracy of RandomForest is', RFC.score(test_feature,test_label))\n",
    "print(RFC.predict(test))\n",
    "RFC_pred = RFC.predict(test_feature)\n",
    "# no 正規化 ： 0.9910\n",
    "#　have 正規化 ：0.7323\n",
    "#　have 標準化 ：0.9353\n",
    "\n"
   ]
  },
  {
   "cell_type": "code",
   "execution_count": 12,
   "metadata": {},
   "outputs": [
    {
     "name": "stdout",
     "output_type": "stream",
     "text": [
      "[[1129    0    0    0    1]\n",
      " [   6  736    4    0    0]\n",
      " [   0    2  709    4    0]\n",
      " [   0    2   11  588    3]\n",
      " [   0    0    2    4  702]]\n",
      "              precision    recall  f1-score   support\n",
      "\n",
      "           A       0.99      1.00      1.00      1130\n",
      "           B       0.99      0.99      0.99       746\n",
      "           C       0.98      0.99      0.98       715\n",
      "           D       0.99      0.97      0.98       604\n",
      "           E       0.99      0.99      0.99       708\n",
      "\n",
      "   micro avg       0.99      0.99      0.99      3903\n",
      "   macro avg       0.99      0.99      0.99      3903\n",
      "weighted avg       0.99      0.99      0.99      3903\n",
      "\n"
     ]
    }
   ],
   "source": [
    "#輸出隨機森林分類器在測試集上的分類準確性，以及更加詳細的精確率、召回率、F1指標\n",
    "from sklearn.metrics import classification_report, confusion_matrix\n",
    "print(confusion_matrix(test_label, RFC_pred))\n",
    "print(classification_report(test_label, RFC_pred))"
   ]
  },
  {
   "cell_type": "markdown",
   "metadata": {},
   "source": [
    "### 使用梯度提升決策樹進行整合模型的訓練以及預測分析"
   ]
  },
  {
   "cell_type": "code",
   "execution_count": 13,
   "metadata": {},
   "outputs": [
    {
     "name": "stdout",
     "output_type": "stream",
     "text": [
      "The accuracy of GradientBoosting is 0.9697668460158853\n",
      "['B' 'A' 'B' 'A' 'A' 'E' 'D' 'B' 'A' 'A' 'B' 'C' 'B' 'A' 'E' 'E' 'A' 'B'\n",
      " 'B' 'B']\n"
     ]
    }
   ],
   "source": [
    "GBC = GradientBoostingClassifier()\n",
    "GBC.fit(train_feature, train_label)\n",
    "print('The accuracy of GradientBoosting is',GBC.score(test_feature,test_label))\n",
    "print(GBC.predict(test))\n",
    "GBC_pred = GBC.predict(test_feature)\n",
    "# no 正規化 ： 0.9682\n",
    "# have 正規化：0.7321\n",
    "# have 標準化 ：0.8586"
   ]
  },
  {
   "cell_type": "code",
   "execution_count": 14,
   "metadata": {},
   "outputs": [
    {
     "name": "stdout",
     "output_type": "stream",
     "text": [
      "[[1113   11    1    2    3]\n",
      " [  14  717   14    0    1]\n",
      " [   0   13  693    7    2]\n",
      " [   0    5   18  577    4]\n",
      " [   1    9    5    8  685]]\n",
      "              precision    recall  f1-score   support\n",
      "\n",
      "           A       0.99      0.98      0.99      1130\n",
      "           B       0.95      0.96      0.96       746\n",
      "           C       0.95      0.97      0.96       715\n",
      "           D       0.97      0.96      0.96       604\n",
      "           E       0.99      0.97      0.98       708\n",
      "\n",
      "   micro avg       0.97      0.97      0.97      3903\n",
      "   macro avg       0.97      0.97      0.97      3903\n",
      "weighted avg       0.97      0.97      0.97      3903\n",
      "\n"
     ]
    }
   ],
   "source": [
    "from sklearn.metrics import classification_report, confusion_matrix\n",
    "print(confusion_matrix(test_label, GBC_pred))\n",
    "print(classification_report(test_label, GBC_pred))"
   ]
  },
  {
   "cell_type": "markdown",
   "metadata": {},
   "source": [
    "### 使用單一決策樹進行模型訓練以及預測分析"
   ]
  },
  {
   "cell_type": "code",
   "execution_count": 15,
   "metadata": {},
   "outputs": [
    {
     "name": "stdout",
     "output_type": "stream",
     "text": [
      "The accuracy of DecisionTree is 0.9659236484755317\n",
      "['B' 'A' 'B' 'A' 'A' 'E' 'D' 'B' 'A' 'A' 'B' 'C' 'B' 'A' 'E' 'E' 'A' 'B'\n",
      " 'B' 'B']\n"
     ]
    }
   ],
   "source": [
    "from sklearn.tree import DecisionTreeClassifier\n",
    "DTC = DecisionTreeClassifier()\n",
    "DTC.fit(train_feature, train_label)\n",
    "print('The accuracy of DecisionTree is', DTC.score(test_feature,test_label))\n",
    "print(DTC.predict(test))\n",
    "DTC_pred = DTC.predict(test_feature)\n",
    "# no 正規化 ： 0.9608\n",
    "# have 正規化 ： 0.4489\n",
    "# have 標準化 ：0.8175"
   ]
  },
  {
   "cell_type": "code",
   "execution_count": 16,
   "metadata": {},
   "outputs": [
    {
     "name": "stdout",
     "output_type": "stream",
     "text": [
      "[[1115    8    4    2    1]\n",
      " [  15  710   10    4    7]\n",
      " [   6    7  682   17    3]\n",
      " [   3    8   10  574    9]\n",
      " [   1    5    6    7  689]]\n",
      "              precision    recall  f1-score   support\n",
      "\n",
      "           A       0.98      0.99      0.98      1130\n",
      "           B       0.96      0.95      0.96       746\n",
      "           C       0.96      0.95      0.96       715\n",
      "           D       0.95      0.95      0.95       604\n",
      "           E       0.97      0.97      0.97       708\n",
      "\n",
      "   micro avg       0.97      0.97      0.97      3903\n",
      "   macro avg       0.96      0.96      0.96      3903\n",
      "weighted avg       0.97      0.97      0.97      3903\n",
      "\n"
     ]
    }
   ],
   "source": [
    "from sklearn.metrics import classification_report, confusion_matrix\n",
    "print(confusion_matrix(test_label, DTC_pred))\n",
    "print(classification_report(test_label, DTC_pred))"
   ]
  },
  {
   "cell_type": "markdown",
   "metadata": {},
   "source": [
    "### 使用線性假設的支援向量機分類器進行模型訓練以及預測分析"
   ]
  },
  {
   "cell_type": "code",
   "execution_count": 31,
   "metadata": {},
   "outputs": [
    {
     "name": "stdout",
     "output_type": "stream",
     "text": [
      "The accuracy of SVM Liner is 0.7609531129900077\n",
      "['A' 'A' 'A' 'A' 'A' 'C' 'C' 'A' 'A' 'A' 'A' 'A' 'B' 'A' 'C' 'A' 'A' 'B'\n",
      " 'A' 'A']\n"
     ]
    }
   ],
   "source": [
    "from sklearn.svm import SVC\n",
    "SVCL = SVC(kernel='linear')\n",
    "SVCL.fit(train_feature, train_label)\n",
    "print('The accuracy of SVM Liner is', SVCL.score(test_feature,test_label))\n",
    "print(SVCL.predict(test))\n",
    "SVCL_pred = SVCL.predict(test_feature)\n",
    "# no 正規化 ： 0\n",
    "# have 正規化 ： 0.4810\n",
    "# have 標準化 ：0.7578"
   ]
  },
  {
   "cell_type": "code",
   "execution_count": 32,
   "metadata": {},
   "outputs": [
    {
     "name": "stdout",
     "output_type": "stream",
     "text": [
      "[[991  29  62  45   3]\n",
      " [107 515  44  19  61]\n",
      " [ 63  70 539  27  16]\n",
      " [ 38  30  59 449  28]\n",
      " [ 36  77  63  56 476]]\n",
      "              precision    recall  f1-score   support\n",
      "\n",
      "           A       0.80      0.88      0.84      1130\n",
      "           B       0.71      0.69      0.70       746\n",
      "           C       0.70      0.75      0.73       715\n",
      "           D       0.75      0.74      0.75       604\n",
      "           E       0.82      0.67      0.74       708\n",
      "\n",
      "   micro avg       0.76      0.76      0.76      3903\n",
      "   macro avg       0.76      0.75      0.75      3903\n",
      "weighted avg       0.76      0.76      0.76      3903\n",
      "\n"
     ]
    }
   ],
   "source": [
    "from sklearn.metrics import classification_report, confusion_matrix\n",
    "print(confusion_matrix(test_label, SVCL_pred))\n",
    "print(classification_report(test_label, SVCL_pred))"
   ]
  },
  {
   "cell_type": "markdown",
   "metadata": {},
   "source": [
    "### 使用多項式 kernel 的支援向量機分類器進行模型訓練以及預測分析"
   ]
  },
  {
   "cell_type": "code",
   "execution_count": 17,
   "metadata": {},
   "outputs": [
    {
     "name": "stderr",
     "output_type": "stream",
     "text": [
      "/home/user/anaconda3/envs/tensorflow/lib/python3.6/site-packages/sklearn/svm/base.py:196: FutureWarning: The default value of gamma will change from 'auto' to 'scale' in version 0.22 to account better for unscaled features. Set gamma explicitly to 'auto' or 'scale' to avoid this warning.\n",
      "  \"avoid this warning.\", FutureWarning)\n"
     ]
    },
    {
     "name": "stdout",
     "output_type": "stream",
     "text": [
      "The accuracy of SVM Poly is 0.988982833717653\n",
      "['B' 'A' 'B' 'A' 'A' 'E' 'D' 'B' 'A' 'A' 'B' 'C' 'B' 'A' 'E' 'E' 'A' 'B'\n",
      " 'B' 'B']\n"
     ]
    }
   ],
   "source": [
    "from sklearn.svm import SVC\n",
    "SVCP = SVC(kernel='poly')\n",
    "SVCP.fit(train_feature, train_label)\n",
    "print('The accuracy of SVM Poly is', SVCP.score(test_feature,test_label))\n",
    "print(SVCP.predict(test))\n",
    "SVCP_pred = SVCP.predict(test_feature)\n",
    "# no 正規化 ： 0.9890\n",
    "# have 正規化： 0.4285\n",
    "# have 標準化 ：0.9485"
   ]
  },
  {
   "cell_type": "code",
   "execution_count": 18,
   "metadata": {},
   "outputs": [
    {
     "name": "stdout",
     "output_type": "stream",
     "text": [
      "[[1129    1    0    0    0]\n",
      " [   5  739    1    0    1]\n",
      " [   0    6  704    4    1]\n",
      " [   0    0    6  593    5]\n",
      " [   1    4    2    6  695]]\n",
      "              precision    recall  f1-score   support\n",
      "\n",
      "           A       0.99      1.00      1.00      1130\n",
      "           B       0.99      0.99      0.99       746\n",
      "           C       0.99      0.98      0.99       715\n",
      "           D       0.98      0.98      0.98       604\n",
      "           E       0.99      0.98      0.99       708\n",
      "\n",
      "   micro avg       0.99      0.99      0.99      3903\n",
      "   macro avg       0.99      0.99      0.99      3903\n",
      "weighted avg       0.99      0.99      0.99      3903\n",
      "\n"
     ]
    }
   ],
   "source": [
    "from sklearn.metrics import classification_report, confusion_matrix\n",
    "print(confusion_matrix(test_label, SVCP_pred))\n",
    "print(classification_report(test_label, SVCP_pred))"
   ]
  },
  {
   "cell_type": "markdown",
   "metadata": {},
   "source": [
    "### 使用高斯 kernel 的支援向量機分類器進行模型訓練以及預測分析"
   ]
  },
  {
   "cell_type": "code",
   "execution_count": 33,
   "metadata": {},
   "outputs": [
    {
     "name": "stdout",
     "output_type": "stream",
     "text": [
      "The accuracy of SVM Rbf is 0.951319497822188\n",
      "['E' 'E' 'E' 'E' 'E' 'E' 'E' 'E' 'E' 'E' 'E' 'E' 'E' 'E' 'E' 'E' 'E' 'E'\n",
      " 'E' 'E']\n"
     ]
    }
   ],
   "source": [
    "from sklearn.svm import SVC\n",
    "SVCR = SVC(kernel='rbf')\n",
    "SVCR.fit(train_feature, train_label)\n",
    "print('The accuracy of SVM Rbf is', SVCR.score(test_feature,test_label))\n",
    "print(SVCR.predict(test))\n",
    "SVCR_pred = SVCR.predict(test_feature)\n",
    "# no 正規化 ： 0.2826\n",
    "# have 正規化 ： 0.6075\n",
    "# have 標準化 ：0.9519"
   ]
  },
  {
   "cell_type": "code",
   "execution_count": 34,
   "metadata": {},
   "outputs": [
    {
     "name": "stdout",
     "output_type": "stream",
     "text": [
      "[[1123    3    1    0    3]\n",
      " [  46  697    3    0    0]\n",
      " [   0   39  665    5    6]\n",
      " [   1    1   54  544    4]\n",
      " [   0    1   14    9  684]]\n",
      "              precision    recall  f1-score   support\n",
      "\n",
      "           A       0.96      0.99      0.98      1130\n",
      "           B       0.94      0.93      0.94       746\n",
      "           C       0.90      0.93      0.92       715\n",
      "           D       0.97      0.90      0.94       604\n",
      "           E       0.98      0.97      0.97       708\n",
      "\n",
      "   micro avg       0.95      0.95      0.95      3903\n",
      "   macro avg       0.95      0.94      0.95      3903\n",
      "weighted avg       0.95      0.95      0.95      3903\n",
      "\n"
     ]
    }
   ],
   "source": [
    "from sklearn.metrics import classification_report, confusion_matrix\n",
    "print(confusion_matrix(test_label, SVCR_pred))\n",
    "print(classification_report(test_label, SVCR_pred))"
   ]
  },
  {
   "cell_type": "markdown",
   "metadata": {},
   "source": [
    "### 使用 sigmoid kernel 的支援向量機分類器進行模型訓練以及預測分析"
   ]
  },
  {
   "cell_type": "code",
   "execution_count": 26,
   "metadata": {},
   "outputs": [
    {
     "name": "stderr",
     "output_type": "stream",
     "text": [
      "/home/user/anaconda3/envs/tensorflow/lib/python3.6/site-packages/sklearn/svm/base.py:196: FutureWarning: The default value of gamma will change from 'auto' to 'scale' in version 0.22 to account better for unscaled features. Set gamma explicitly to 'auto' or 'scale' to avoid this warning.\n",
      "  \"avoid this warning.\", FutureWarning)\n"
     ]
    },
    {
     "name": "stdout",
     "output_type": "stream",
     "text": [
      "The accuracy of SVM sigmoid is 0.5826287471176018\n",
      "['E' 'A' 'A' 'A' 'C' 'E' 'E' 'C' 'C' 'B' 'A' 'E' 'E' 'A' 'B' 'A' 'E' 'A'\n",
      " 'D' 'E']\n"
     ]
    }
   ],
   "source": [
    "from sklearn.svm import SVC\n",
    "SVCS = SVC(kernel='sigmoid')\n",
    "SVCS.fit(train_feature, train_label)\n",
    "print('The accuracy of SVM sigmoid is', SVCS.score(test_feature,test_label))\n",
    "print(SVCS.predict(test))\n",
    "SVCS_pred = SVCS.predict(test_feature)\n",
    "# no 正規化 ： 0.1692\n",
    "# have 正規化 ： 0.5611\n",
    "# have 標準化 ：0.3491"
   ]
  },
  {
   "cell_type": "code",
   "execution_count": 27,
   "metadata": {},
   "outputs": [
    {
     "name": "stdout",
     "output_type": "stream",
     "text": [
      "[[848  16  91 162  13]\n",
      " [153 243 125 143  82]\n",
      " [181  19 418  80  17]\n",
      " [ 50  13  68 436  37]\n",
      " [ 56  58 144 121 329]]\n",
      "              precision    recall  f1-score   support\n",
      "\n",
      "           A       0.66      0.75      0.70      1130\n",
      "           B       0.70      0.33      0.44       746\n",
      "           C       0.49      0.58      0.54       715\n",
      "           D       0.46      0.72      0.56       604\n",
      "           E       0.69      0.46      0.55       708\n",
      "\n",
      "   micro avg       0.58      0.58      0.58      3903\n",
      "   macro avg       0.60      0.57      0.56      3903\n",
      "weighted avg       0.61      0.58      0.57      3903\n",
      "\n"
     ]
    }
   ],
   "source": [
    "from sklearn.metrics import classification_report, confusion_matrix\n",
    "print(confusion_matrix(test_label, SVCS_pred))\n",
    "print(classification_report(test_label, SVCS_pred))"
   ]
  },
  {
   "cell_type": "markdown",
   "metadata": {},
   "source": [
    "### 使用高斯樸素貝葉斯(Gaussian Naive Bayes)分類器進行模型訓練以及預測分析"
   ]
  },
  {
   "cell_type": "code",
   "execution_count": 19,
   "metadata": {},
   "outputs": [
    {
     "name": "stdout",
     "output_type": "stream",
     "text": [
      "The accuracy of Gaussian Naive Bayes is 0.49602869587496795\n",
      "['B' 'C' 'C' 'C' 'B' 'A' 'C' 'B' 'A' 'C' 'C' 'C' 'B' 'A' 'E' 'B' 'C' 'B'\n",
      " 'D' 'B']\n"
     ]
    }
   ],
   "source": [
    "from sklearn.naive_bayes import GaussianNB, MultinomialNB, BernoulliNB\n",
    "GNB = GaussianNB().fit(train_feature,train_label)\n",
    "print('The accuracy of Gaussian Naive Bayes is', GNB.score(test_feature,test_label))\n",
    "print(GNB.predict(test))\n",
    "GNB_pred = GNB.predict(test_feature)\n",
    "# no 正規化 0.49911\n",
    "# have 正規化 ： 0.2847\n",
    "# have 標準化 ：0.3538"
   ]
  },
  {
   "cell_type": "code",
   "execution_count": 20,
   "metadata": {},
   "outputs": [
    {
     "name": "stdout",
     "output_type": "stream",
     "text": [
      "[[329  85 526 155  35]\n",
      " [ 27 464 146  69  40]\n",
      " [ 13  81 463 121  37]\n",
      " [  0  13 233 286  72]\n",
      " [  4 112  91 107 394]]\n",
      "              precision    recall  f1-score   support\n",
      "\n",
      "           A       0.88      0.29      0.44      1130\n",
      "           B       0.61      0.62      0.62       746\n",
      "           C       0.32      0.65      0.43       715\n",
      "           D       0.39      0.47      0.43       604\n",
      "           E       0.68      0.56      0.61       708\n",
      "\n",
      "   micro avg       0.50      0.50      0.50      3903\n",
      "   macro avg       0.58      0.52      0.50      3903\n",
      "weighted avg       0.61      0.50      0.50      3903\n",
      "\n"
     ]
    }
   ],
   "source": [
    "from sklearn.metrics import classification_report, confusion_matrix\n",
    "print(confusion_matrix(test_label, GNB_pred))\n",
    "print(classification_report(test_label, GNB_pred))"
   ]
  },
  {
   "cell_type": "markdown",
   "metadata": {},
   "source": [
    "### 使用多項式樸素貝葉斯(Multinomial Naive Bayes)分類器進行模型訓練以及預測分析"
   ]
  },
  {
   "cell_type": "code",
   "execution_count": 28,
   "metadata": {},
   "outputs": [
    {
     "name": "stdout",
     "output_type": "stream",
     "text": [
      "The accuracy of Multinomial Naive Bayes is 0.34998718934153217\n",
      "['C' 'A' 'A' 'A' 'A' 'C' 'D' 'D' 'A' 'A' 'A' 'A' 'E' 'A' 'D' 'A' 'A' 'D'\n",
      " 'D' 'A']\n"
     ]
    }
   ],
   "source": [
    "from sklearn.naive_bayes import MultinomialNB\n",
    "MNB = MultinomialNB().fit(train_feature,train_label)\n",
    "print('The accuracy of Multinomial Naive Bayes is', MNB.score(test_feature,test_label))\n",
    "print(MNB.predict(test))\n",
    "MNB_pred = MNB.predict(test_feature)\n",
    "# 輸入不能是負數。\n",
    "# have 正規化 ： 0.3304\n",
    "# 標準化後，輸入依舊是負數"
   ]
  },
  {
   "cell_type": "code",
   "execution_count": 29,
   "metadata": {},
   "outputs": [
    {
     "name": "stdout",
     "output_type": "stream",
     "text": [
      "[[984  62   1  15  68]\n",
      " [487 113   0  10 136]\n",
      " [613  40   0   2  60]\n",
      " [363 104   0  80  57]\n",
      " [427  67   5  20 189]]\n",
      "              precision    recall  f1-score   support\n",
      "\n",
      "           A       0.34      0.87      0.49      1130\n",
      "           B       0.29      0.15      0.20       746\n",
      "           C       0.00      0.00      0.00       715\n",
      "           D       0.63      0.13      0.22       604\n",
      "           E       0.37      0.27      0.31       708\n",
      "\n",
      "   micro avg       0.35      0.35      0.35      3903\n",
      "   macro avg       0.33      0.28      0.24      3903\n",
      "weighted avg       0.32      0.35      0.27      3903\n",
      "\n"
     ]
    }
   ],
   "source": [
    "from sklearn.metrics import classification_report, confusion_matrix\n",
    "print(confusion_matrix(test_label, MNB_pred))\n",
    "print(classification_report(test_label, MNB_pred))"
   ]
  },
  {
   "cell_type": "markdown",
   "metadata": {},
   "source": [
    "### 使用伯努力樸素貝葉斯(Bernoulli Naive Bayes)分類器進行模型訓練以及預測分析"
   ]
  },
  {
   "cell_type": "code",
   "execution_count": 21,
   "metadata": {},
   "outputs": [
    {
     "name": "stdout",
     "output_type": "stream",
     "text": [
      "The accuracy of Bernoulli Naive Bayes is 0.4391493722777351\n",
      "['B' 'A' 'A' 'A' 'A' 'E' 'C' 'D' 'A' 'A' 'A' 'A' 'B' 'A' 'E' 'B' 'A' 'B'\n",
      " 'B' 'B']\n"
     ]
    }
   ],
   "source": [
    "from sklearn.naive_bayes import BernoulliNB\n",
    "BNB = BernoulliNB().fit(train_feature,train_label)\n",
    "print('The accuracy of Bernoulli Naive Bayes is', BNB.score(test_feature,test_label))\n",
    "print(BNB.predict(test))\n",
    "BNB_pred = BNB.predict(test_feature)\n",
    "# no 正規化 0.4268 \n",
    "# have 正規化 ： 0.2972\n",
    "# have 標準化 ：0.4256"
   ]
  },
  {
   "cell_type": "code",
   "execution_count": 22,
   "metadata": {},
   "outputs": [
    {
     "name": "stdout",
     "output_type": "stream",
     "text": [
      "[[682 167 147  65  69]\n",
      " [159 323  73  88 103]\n",
      " [202 156 290  19  48]\n",
      " [ 40 163 131 175  95]\n",
      " [ 86 153 126  99 244]]\n",
      "              precision    recall  f1-score   support\n",
      "\n",
      "           A       0.58      0.60      0.59      1130\n",
      "           B       0.34      0.43      0.38       746\n",
      "           C       0.38      0.41      0.39       715\n",
      "           D       0.39      0.29      0.33       604\n",
      "           E       0.44      0.34      0.39       708\n",
      "\n",
      "   micro avg       0.44      0.44      0.44      3903\n",
      "   macro avg       0.43      0.42      0.42      3903\n",
      "weighted avg       0.44      0.44      0.44      3903\n",
      "\n"
     ]
    }
   ],
   "source": [
    "from sklearn.metrics import classification_report, confusion_matrix\n",
    "print(confusion_matrix(test_label, BNB_pred))\n",
    "print(classification_report(test_label, BNB_pred))"
   ]
  },
  {
   "cell_type": "markdown",
   "metadata": {},
   "source": [
    "### 使用邏輯迴歸(LogisticRegression)進行模型訓練以及預測分析"
   ]
  },
  {
   "cell_type": "code",
   "execution_count": 23,
   "metadata": {},
   "outputs": [
    {
     "name": "stderr",
     "output_type": "stream",
     "text": [
      "/home/user/anaconda3/envs/tensorflow/lib/python3.6/site-packages/sklearn/linear_model/logistic.py:433: FutureWarning: Default solver will be changed to 'lbfgs' in 0.22. Specify a solver to silence this warning.\n",
      "  FutureWarning)\n",
      "/home/user/anaconda3/envs/tensorflow/lib/python3.6/site-packages/sklearn/linear_model/logistic.py:460: FutureWarning: Default multi_class will be changed to 'auto' in 0.22. Specify the multi_class option to silence this warning.\n",
      "  \"this warning.\", FutureWarning)\n"
     ]
    },
    {
     "name": "stdout",
     "output_type": "stream",
     "text": [
      "The accuracy of Logistic Regression is 0.7389187804253139\n",
      "['B' 'A' 'B' 'C' 'A' 'E' 'D' 'E' 'A' 'A' 'D' 'A' 'B' 'A' 'E' 'A' 'A' 'B'\n",
      " 'B' 'B']\n"
     ]
    }
   ],
   "source": [
    "from sklearn.linear_model import LogisticRegression\n",
    "LR = LogisticRegression()\n",
    "LR.fit(train_feature, train_label)\n",
    "print('The accuracy of Logistic Regression is', LR.score(test_feature,test_label))\n",
    "print(LR.predict(test))\n",
    "LR_pred = (LR.predict(test_feature))\n",
    "# no 正規化 0.7272\n",
    "# have 正規化 ： 0.5621\n",
    "# have 標準化 ：0.7133"
   ]
  },
  {
   "cell_type": "code",
   "execution_count": 24,
   "metadata": {},
   "outputs": [
    {
     "name": "stdout",
     "output_type": "stream",
     "text": [
      "[[1003   21   55   38   13]\n",
      " [ 106  514   52   23   51]\n",
      " [  99   68  460   54   34]\n",
      " [  50   26   70  421   37]\n",
      " [  42   78   38   64  486]]\n",
      "              precision    recall  f1-score   support\n",
      "\n",
      "           A       0.77      0.89      0.83      1130\n",
      "           B       0.73      0.69      0.71       746\n",
      "           C       0.68      0.64      0.66       715\n",
      "           D       0.70      0.70      0.70       604\n",
      "           E       0.78      0.69      0.73       708\n",
      "\n",
      "   micro avg       0.74      0.74      0.74      3903\n",
      "   macro avg       0.73      0.72      0.73      3903\n",
      "weighted avg       0.74      0.74      0.74      3903\n",
      "\n"
     ]
    }
   ],
   "source": [
    "from sklearn.metrics import classification_report, confusion_matrix\n",
    "print(confusion_matrix(test_label, LR_pred))\n",
    "print(classification_report(test_label, LR_pred))"
   ]
  },
  {
   "cell_type": "markdown",
   "metadata": {},
   "source": [
    "### 使用 KNN 進行模型訓練以及預測分析"
   ]
  },
  {
   "cell_type": "code",
   "execution_count": 35,
   "metadata": {},
   "outputs": [
    {
     "name": "stdout",
     "output_type": "stream",
     "text": [
      "The accuracy of KNeighbors is 0.9761721752498078\n",
      "['B' 'B' 'B' 'C' 'A' 'B' 'A' 'B' 'A' 'A' 'B' 'B' 'E' 'B' 'A' 'E' 'B' 'B'\n",
      " 'B' 'B']\n"
     ]
    }
   ],
   "source": [
    "from sklearn.neighbors import KNeighborsClassifier\n",
    "KNC = KNeighborsClassifier()\n",
    "KNC.fit(train_feature,train_label)\n",
    "print('The accuracy of KNeighbors is', KNC.score(test_feature,test_label))\n",
    "print(KNC.predict(test))\n",
    "KNC_pred = KNC.predict(test_feature)\n",
    "# no 正規化 0.9189\n",
    "# have 正規化 ： 0.9359\n",
    "# have 標準化 ：0.9764"
   ]
  },
  {
   "cell_type": "code",
   "execution_count": 36,
   "metadata": {},
   "outputs": [
    {
     "name": "stdout",
     "output_type": "stream",
     "text": [
      "[[1127    1    0    2    0]\n",
      " [  10  723   12    0    1]\n",
      " [   1   12  689   10    3]\n",
      " [   2    0   29  569    4]\n",
      " [   0    2    3    1  702]]\n",
      "              precision    recall  f1-score   support\n",
      "\n",
      "           A       0.99      1.00      0.99      1130\n",
      "           B       0.98      0.97      0.97       746\n",
      "           C       0.94      0.96      0.95       715\n",
      "           D       0.98      0.94      0.96       604\n",
      "           E       0.99      0.99      0.99       708\n",
      "\n",
      "   micro avg       0.98      0.98      0.98      3903\n",
      "   macro avg       0.97      0.97      0.97      3903\n",
      "weighted avg       0.98      0.98      0.98      3903\n",
      "\n"
     ]
    }
   ],
   "source": [
    "from sklearn.metrics import classification_report, confusion_matrix\n",
    "print(confusion_matrix(test_label, KNC_pred))\n",
    "print(classification_report(test_label, KNC_pred))"
   ]
  }
 ],
 "metadata": {
  "kernelspec": {
   "display_name": "Python 3",
   "language": "python",
   "name": "python3"
  },
  "language_info": {
   "codemirror_mode": {
    "name": "ipython",
    "version": 3
   },
   "file_extension": ".py",
   "mimetype": "text/x-python",
   "name": "python",
   "nbconvert_exporter": "python",
   "pygments_lexer": "ipython3",
   "version": "3.6.7"
  }
 },
 "nbformat": 4,
 "nbformat_minor": 2
}
